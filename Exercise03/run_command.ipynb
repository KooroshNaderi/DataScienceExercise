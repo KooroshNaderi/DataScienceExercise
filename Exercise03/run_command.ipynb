{
 "cells": [
  {
   "cell_type": "markdown",
   "metadata": {},
   "source": [
    "## URL Grabber\n",
    "\n",
    "This assignment develops a simple url grabber. The program gets as input two address files, one containing urls and the other one contains regular expressions. The purpose of the program is to check the urls, fetch their context and match with given regular expressions.\n",
    "\n",
    "- docopt is used to get as arguments two file names: url_file and regex_file\n",
    "- pandas is used to read urls assuming urls have big data\n",
    "- multi-processing is used"
   ]
  },
  {
   "cell_type": "code",
   "execution_count": 1,
   "metadata": {},
   "outputs": [],
   "source": [
    "from solution import multi_process_urls\n",
    "\n",
    "from function_utils import is_match, fetch_text_from_url"
   ]
  },
  {
   "cell_type": "code",
   "execution_count": 2,
   "metadata": {},
   "outputs": [
    {
     "name": "stdout",
     "output_type": "stream",
     "text": [
      ".... started processing the urls .....\n",
      "processing url:  https://en.wikipedia.org/wiki/Python_(programming_language)\n",
      "processing url:  https://en.wikipedia.org/wiki/CMA-ES\n",
      "{'worker_id': 1, 'time': 'Wed Nov 27 17:58:38 2019', 'RE': 'Hello(.*)', 'error': 0, 'matched-string': 'something', 'deltatime': 0.0, 'url': 'https://en.wikipedia.org/wiki/Python_(programming_language)', 'url-code': 0}\n",
      "{'worker_id': 0, 'time': 'Wed Nov 27 17:58:38 2019', 'RE': 'welcome(.*)', 'error': 0.9999555750805819, 'matched-string': '', 'deltatime': 0.313221, 'url': 'https://en.wikipedia.org/wiki/Python_(programming_language)', 'url-code': 0}\n",
      "{'worker_id': 2, 'time': 'Wed Nov 27 17:58:38 2019', 'RE': 'This is Me(.*)', 'error': 0.9999407672126778, 'matched-string': '', 'deltatime': 0.438308, 'url': 'https://en.wikipedia.org/wiki/Python_(programming_language)', 'url-code': 0}\n",
      "{'worker_id': 3, 'time': 'Wed Nov 27 17:58:38 2019', 'RE': 'derivatives nor even', 'error': 0.9999062161421763, 'matched-string': '', 'deltatime': 0.375264, 'url': 'https://en.wikipedia.org/wiki/Python_(programming_language)', 'url-code': 0}\n",
      "{'worker_id': 4, 'time': 'Wed Nov 27 17:58:39 2019', 'RE': 'welcome(.*)', 'error': 0.9999553545155864, 'matched-string': '', 'deltatime': 0.364257, 'url': 'https://en.wikipedia.org/wiki/CMA-ES', 'url-code': 0}\n",
      "processing url:  https://en.wikipedia.org/wiki/Inertia\n",
      "{'worker_id': 2, 'time': 'Wed Nov 27 17:58:39 2019', 'RE': 'derivatives nor even', 'error': 0, 'matched-string': 'something', 'deltatime': 0.0, 'url': 'https://en.wikipedia.org/wiki/CMA-ES', 'url-code': 0}\n",
      "{'worker_id': 0, 'time': 'Wed Nov 27 17:58:39 2019', 'RE': 'Hello(.*)', 'error': 0.9999634717281323, 'matched-string': '', 'deltatime': 0.380267, 'url': 'https://en.wikipedia.org/wiki/CMA-ES', 'url-code': 0}\n",
      "{'worker_id': 3, 'time': 'Wed Nov 27 17:58:40 2019', 'RE': 'welcome(.*)', 'error': 0.9998691280291409, 'matched-string': '', 'deltatime': 0.105073, 'url': 'https://en.wikipedia.org/wiki/Inertia', 'url-code': 0}\n",
      "{'worker_id': 1, 'time': 'Wed Nov 27 17:58:39 2019', 'RE': 'This is Me(.*)', 'error': 0.9999431788203111, 'matched-string': '', 'deltatime': 0.577407, 'url': 'https://en.wikipedia.org/wiki/CMA-ES', 'url-code': 0}\n",
      "{'worker_id': 4, 'time': 'Wed Nov 27 17:58:40 2019', 'RE': 'Hello(.*)', 'error': 0.9998982092091583, 'matched-string': '', 'deltatime': 0.141082, 'url': 'https://en.wikipedia.org/wiki/Inertia', 'url-code': 0}\n",
      "processing url:  https://123.com\n",
      "{'worker_id': 0, 'time': 'Wed Nov 27 17:58:40 2019', 'RE': 'This is Me(.*)', 'error': 0.9998255078448764, 'matched-string': '', 'deltatime': 0.121062, 'url': 'https://en.wikipedia.org/wiki/Inertia', 'url-code': 0}\n",
      "{'worker_id': 1, 'time': 'Wed Nov 27 17:58:40 2019', 'RE': 'derivatives nor even', 'error': 0.9997237328060022, 'matched-string': '', 'deltatime': 0.127084, 'url': 'https://en.wikipedia.org/wiki/Inertia', 'url-code': 0}\n",
      "{'worker_id': 2, 'time': 'Wed Nov 27 17:58:44 2019', 'RE': '', 'error': 1, 'matched-string': '', 'deltatime': 0, 'url': 'https://123.com', 'url-code': 404}\n"
     ]
    }
   ],
   "source": [
    "multi_process_urls(\"url_file.txt\", \"regex_file.txt\", 5)"
   ]
  },
  {
   "cell_type": "code",
   "execution_count": 3,
   "metadata": {},
   "outputs": [
    {
     "name": "stdout",
     "output_type": "stream",
     "text": [
      ".... started processing the urls .....\n",
      "processing url:  https://en.wikipedia.org/wiki/Python_(programming_language)\n",
      "{'worker_id': 0, 'time': 'Wed Nov 27 17:59:12 2019', 'RE': 'welcome(.*)', 'error': 0.9999555750805819, 'matched-string': '', 'deltatime': 0.309218, 'url': 'https://en.wikipedia.org/wiki/Python_(programming_language)', 'url-code': 0}\n",
      "{'worker_id': 0, 'time': 'Wed Nov 27 17:59:12 2019', 'RE': 'Hello(.*)', 'error': 0, 'matched-string': 'something', 'deltatime': 0.0, 'url': 'https://en.wikipedia.org/wiki/Python_(programming_language)', 'url-code': 0}\n",
      "{'worker_id': 0, 'time': 'Wed Nov 27 17:59:13 2019', 'RE': 'This is Me(.*)', 'error': 0.9999407672126778, 'matched-string': '', 'deltatime': 0.407294, 'url': 'https://en.wikipedia.org/wiki/Python_(programming_language)', 'url-code': 0}\n",
      "{'worker_id': 0, 'time': 'Wed Nov 27 17:59:13 2019', 'RE': 'derivatives nor even', 'error': 0.9999062161421763, 'matched-string': '', 'deltatime': 0.349258, 'url': 'https://en.wikipedia.org/wiki/Python_(programming_language)', 'url-code': 0}\n",
      "processing url:  https://en.wikipedia.org/wiki/CMA-ES\n",
      "{'worker_id': 0, 'time': 'Wed Nov 27 17:59:14 2019', 'RE': 'welcome(.*)', 'error': 0.9999553545155864, 'matched-string': '', 'deltatime': 0.362255, 'url': 'https://en.wikipedia.org/wiki/CMA-ES', 'url-code': 0}\n",
      "{'worker_id': 0, 'time': 'Wed Nov 27 17:59:14 2019', 'RE': 'Hello(.*)', 'error': 0.9999634717281323, 'matched-string': '', 'deltatime': 0.346243, 'url': 'https://en.wikipedia.org/wiki/CMA-ES', 'url-code': 0}\n",
      "{'worker_id': 0, 'time': 'Wed Nov 27 17:59:15 2019', 'RE': 'This is Me(.*)', 'error': 0.9999431788203111, 'matched-string': '', 'deltatime': 0.522359, 'url': 'https://en.wikipedia.org/wiki/CMA-ES', 'url-code': 0}\n",
      "{'worker_id': 0, 'time': 'Wed Nov 27 17:59:15 2019', 'RE': 'derivatives nor even', 'error': 0, 'matched-string': 'something', 'deltatime': 0.0, 'url': 'https://en.wikipedia.org/wiki/CMA-ES', 'url-code': 0}\n",
      "processing url:  https://en.wikipedia.org/wiki/Inertia\n",
      "{'worker_id': 0, 'time': 'Wed Nov 27 17:59:16 2019', 'RE': 'welcome(.*)', 'error': 0.9998691280291409, 'matched-string': '', 'deltatime': 0.100053, 'url': 'https://en.wikipedia.org/wiki/Inertia', 'url-code': 0}\n",
      "{'worker_id': 0, 'time': 'Wed Nov 27 17:59:16 2019', 'RE': 'Hello(.*)', 'error': 0.9998982092091583, 'matched-string': '', 'deltatime': 0.131092, 'url': 'https://en.wikipedia.org/wiki/Inertia', 'url-code': 0}\n",
      "{'worker_id': 0, 'time': 'Wed Nov 27 17:59:16 2019', 'RE': 'This is Me(.*)', 'error': 0.9998255078448764, 'matched-string': '', 'deltatime': 0.115081, 'url': 'https://en.wikipedia.org/wiki/Inertia', 'url-code': 0}\n",
      "{'worker_id': 0, 'time': 'Wed Nov 27 17:59:16 2019', 'RE': 'derivatives nor even', 'error': 0.9997237328060022, 'matched-string': '', 'deltatime': 0.121998, 'url': 'https://en.wikipedia.org/wiki/Inertia', 'url-code': 0}\n",
      "processing url:  https://123.com\n",
      "{'worker_id': 0, 'time': 'Wed Nov 27 17:59:18 2019', 'RE': '', 'error': 1, 'matched-string': '', 'deltatime': 0, 'url': 'https://123.com', 'url-code': 404}\n"
     ]
    }
   ],
   "source": [
    "multi_process_urls(\"url_file.txt\", \"regex_file.txt\", 1)"
   ]
  },
  {
   "cell_type": "code",
   "execution_count": null,
   "metadata": {},
   "outputs": [],
   "source": []
  }
 ],
 "metadata": {
  "kernelspec": {
   "display_name": "Python 3",
   "language": "python",
   "name": "python3"
  },
  "language_info": {
   "codemirror_mode": {
    "name": "ipython",
    "version": 3
   },
   "file_extension": ".py",
   "mimetype": "text/x-python",
   "name": "python",
   "nbconvert_exporter": "python",
   "pygments_lexer": "ipython3",
   "version": "3.6.7"
  }
 },
 "nbformat": 4,
 "nbformat_minor": 2
}
