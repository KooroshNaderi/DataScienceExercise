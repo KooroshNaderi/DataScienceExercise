{
 "cells": [
  {
   "cell_type": "markdown",
   "metadata": {},
   "source": [
    "## URL Grabber\n",
    "\n",
    "This assignment develops a simple url grabber. The program gets as input two address files, one containing urls and the other one contains regular expressions. The purpose of the program is to check the urls, fetch their context and match with given regular expressions.\n",
    "\n",
    "- docopt is used to get as arguments two file names: url_file and regex_file\n",
    "- pandas is used to read urls assuming urls have big data\n",
    "- multi-processing is used to assign workers for finding a match string given urls and regex list.\n",
    "    - To log the output, multi-threading queue is used to put a dictionary as a log\n",
    "    - To read the url, urllib is used to open the webpage and read its context\n",
    "    - The process of assigning workers is as follows:\n",
    "        - 1) a url is selected from database, and its context is fetched if it exists\n",
    "        - 2) as long as a worker is free, a regex is selected from list to be checked against the url\n",
    "        - 3) go to first step if all regex list is assigned a worker, and there is more url to check otherwise end\n",
    "- to handle ctrl+c, try-except is used\n",
    "    - first: I needed to import big library like pandas and urllib inside the function. As a result, I could catch the error and log/report nice print in case of ctrl+c\n",
    "    - second: ctrl+c might happed in the middle of reading from database and as a result it reported error. To avoid that I used os.kill to kill the process and send ctrl+break"
   ]
  },
  {
   "cell_type": "code",
   "execution_count": 5,
   "metadata": {},
   "outputs": [
    {
     "name": "stdout",
     "output_type": "stream",
     "text": [
      "Matching log between ABCD and AB: {'worker_id': 0, 'time': 'Thu Nov 28 01:11:56 2019', 'RE': 'AB', 'error': 0, 'matched-string': 'AB', 'deltatime': 0.0}\n",
      "Matching log between EBCD and AB: {'worker_id': 0, 'time': 'Thu Nov 28 01:11:56 2019', 'RE': 'AB', 'error': 0.6666666666666667, 'matched-string': '', 'deltatime': 0.0}\n",
      "https://sites.google.com/view/kourosh-naderi/home --- Len:  60514 --- exists:  True\n",
      "www.not_existed_site.com --- Len:  0 --- exists:  False\n"
     ]
    }
   ],
   "source": [
    "from function_utils import is_match, fetch_text_from_url\n",
    "\n",
    "# test is_match function: return matching string if exist otherwise return percentage error\n",
    "print(\"Matching log between ABCD and AB:\", is_match(\"ABCD\", \"AB\"))\n",
    "print(\"Matching log between EBCD and AB:\", is_match(\"EBCD\", \"AB\"))\n",
    "\n",
    "text, url_exist = fetch_text_from_url(\"https://sites.google.com/view/kourosh-naderi/home\")\n",
    "print(\"https://sites.google.com/view/kourosh-naderi/home\", \"--- Len: \", len(text),  \"--- exists: \", url_exist)\n",
    "text, url_exist = fetch_text_from_url(\"www.not_existed_site.com\")\n",
    "print(\"www.not_existed_site.com\", \"--- Len: \", len(text),  \"--- exists: \", url_exist)"
   ]
  },
  {
   "cell_type": "code",
   "execution_count": 6,
   "metadata": {},
   "outputs": [
    {
     "name": "stdout",
     "output_type": "stream",
     "text": [
      "------------testing with 1 worker, expecting to see the url processing in order--------\n",
      ".... started processing the urls .....\n",
      "processing url:  https://en.wikipedia.org/wiki/Python_(programming_language)\n",
      "{'worker_id': 0, 'time': 'Thu Nov 28 01:17:12 2019', 'RE': 'welcome(.*)', 'error': 0.999955581438964, 'matched-string': '', 'deltatime': 0.272302, 'url': 'https://en.wikipedia.org/wiki/Python_(programming_language)', 'url-code': 0}\n",
      "{'worker_id': 0, 'time': 'Thu Nov 28 01:17:13 2019', 'RE': 'Hello(.*)', 'error': 0, 'matched-string': 'Hello,_World!%22_program\" title=\"&quot;Hello, World!&quot; program\">Hello world</a> program:', 'deltatime': 0.0, 'url': 'https://en.wikipedia.org/wiki/Python_(programming_language)', 'url-code': 0}\n",
      "{'worker_id': 0, 'time': 'Thu Nov 28 01:17:13 2019', 'RE': 'This is Me(.*)', 'error': 0.9999407756903951, 'matched-string': '', 'deltatime': 0.365017, 'url': 'https://en.wikipedia.org/wiki/Python_(programming_language)', 'url-code': 0}\n",
      "{'worker_id': 0, 'time': 'Thu Nov 28 01:17:13 2019', 'RE': 'derivatives nor even', 'error': 0.9999062295648311, 'matched-string': '', 'deltatime': 0.31917, 'url': 'https://en.wikipedia.org/wiki/Python_(programming_language)', 'url-code': 0}\n",
      "processing url:  https://en.wikipedia.org/wiki/CMA-ES\n",
      "{'worker_id': 0, 'time': 'Thu Nov 28 01:17:14 2019', 'RE': 'welcome(.*)', 'error': 0.9999553545155864, 'matched-string': '', 'deltatime': 0.352056, 'url': 'https://en.wikipedia.org/wiki/CMA-ES', 'url-code': 0}\n",
      "{'worker_id': 0, 'time': 'Thu Nov 28 01:17:14 2019', 'RE': 'Hello(.*)', 'error': 0.9999634717281323, 'matched-string': '', 'deltatime': 0.34305, 'url': 'https://en.wikipedia.org/wiki/CMA-ES', 'url-code': 0}\n",
      "{'worker_id': 0, 'time': 'Thu Nov 28 01:17:15 2019', 'RE': 'This is Me(.*)', 'error': 0.9999431788203111, 'matched-string': '', 'deltatime': 0.526583, 'url': 'https://en.wikipedia.org/wiki/CMA-ES', 'url-code': 0}\n",
      "{'worker_id': 0, 'time': 'Thu Nov 28 01:17:15 2019', 'RE': 'derivatives nor even', 'error': 0, 'matched-string': 'derivatives nor even', 'deltatime': 0.001026, 'url': 'https://en.wikipedia.org/wiki/CMA-ES', 'url-code': 0}\n",
      "processing url:  https://en.wikipedia.org/wiki/Inertia\n",
      "{'worker_id': 0, 'time': 'Thu Nov 28 01:17:16 2019', 'RE': 'welcome(.*)', 'error': 0.9998691280291409, 'matched-string': '', 'deltatime': 0.103723, 'url': 'https://en.wikipedia.org/wiki/Inertia', 'url-code': 0}\n",
      "{'worker_id': 0, 'time': 'Thu Nov 28 01:17:16 2019', 'RE': 'Hello(.*)', 'error': 0.9998982092091583, 'matched-string': '', 'deltatime': 0.125667, 'url': 'https://en.wikipedia.org/wiki/Inertia', 'url-code': 0}\n",
      "{'worker_id': 0, 'time': 'Thu Nov 28 01:17:16 2019', 'RE': 'This is Me(.*)', 'error': 0.9998255078448764, 'matched-string': '', 'deltatime': 0.106714, 'url': 'https://en.wikipedia.org/wiki/Inertia', 'url-code': 0}\n",
      "{'worker_id': 0, 'time': 'Thu Nov 28 01:17:16 2019', 'RE': 'derivatives nor even', 'error': 0.9997237328060022, 'matched-string': '', 'deltatime': 0.113691, 'url': 'https://en.wikipedia.org/wiki/Inertia', 'url-code': 0}\n",
      "processing url:  https://123.com\n",
      "{'worker_id': 0, 'time': 'Thu Nov 28 01:17:18 2019', 'RE': '', 'error': 1, 'matched-string': '', 'deltatime': 0, 'url': 'https://123.com', 'url-code': 404}\n",
      "------------testing with 5 workers, expecting to see the url processing in random order--------\n",
      ".... started processing the urls .....\n",
      "processing url:  https://en.wikipedia.org/wiki/Python_(programming_language)\n",
      "processing url:  https://en.wikipedia.org/wiki/CMA-ES\n",
      "{'worker_id': 1, 'time': 'Thu Nov 28 01:17:18 2019', 'RE': 'Hello(.*)', 'error': 0, 'matched-string': 'Hello,_World!%22_program\" title=\"&quot;Hello, World!&quot; program\">Hello world</a> program:', 'deltatime': 0.0, 'url': 'https://en.wikipedia.org/wiki/Python_(programming_language)', 'url-code': 0}\n",
      "{'worker_id': 0, 'time': 'Thu Nov 28 01:17:18 2019', 'RE': 'welcome(.*)', 'error': 0.999955581438964, 'matched-string': '', 'deltatime': 0.301166, 'url': 'https://en.wikipedia.org/wiki/Python_(programming_language)', 'url-code': 0}\n",
      "{'worker_id': 2, 'time': 'Thu Nov 28 01:17:18 2019', 'RE': 'This is Me(.*)', 'error': 0.9999407756903951, 'matched-string': '', 'deltatime': 0.400928, 'url': 'https://en.wikipedia.org/wiki/Python_(programming_language)', 'url-code': 0}\n",
      "{'worker_id': 3, 'time': 'Thu Nov 28 01:17:18 2019', 'RE': 'derivatives nor even', 'error': 0.9999062295648311, 'matched-string': '', 'deltatime': 0.352084, 'url': 'https://en.wikipedia.org/wiki/Python_(programming_language)', 'url-code': 0}\n",
      "{'worker_id': 4, 'time': 'Thu Nov 28 01:17:19 2019', 'RE': 'welcome(.*)', 'error': 0.9999553545155864, 'matched-string': '', 'deltatime': 0.327124, 'url': 'https://en.wikipedia.org/wiki/CMA-ES', 'url-code': 0}\n",
      "processing url:  https://en.wikipedia.org/wiki/Inertia\n",
      "{'worker_id': 2, 'time': 'Thu Nov 28 01:17:19 2019', 'RE': 'derivatives nor even', 'error': 0, 'matched-string': 'derivatives nor even', 'deltatime': 0.0, 'url': 'https://en.wikipedia.org/wiki/CMA-ES', 'url-code': 0}\n",
      "{'worker_id': 0, 'time': 'Thu Nov 28 01:17:19 2019', 'RE': 'Hello(.*)', 'error': 0.9999634717281323, 'matched-string': '', 'deltatime': 0.346075, 'url': 'https://en.wikipedia.org/wiki/CMA-ES', 'url-code': 0}\n",
      "{'worker_id': 3, 'time': 'Thu Nov 28 01:17:20 2019', 'RE': 'welcome(.*)', 'error': 0.9998691280291409, 'matched-string': '', 'deltatime': 0.100731, 'url': 'https://en.wikipedia.org/wiki/Inertia', 'url-code': 0}\n",
      "{'worker_id': 1, 'time': 'Thu Nov 28 01:17:19 2019', 'RE': 'This is Me(.*)', 'error': 0.9999431788203111, 'matched-string': '', 'deltatime': 0.529588, 'url': 'https://en.wikipedia.org/wiki/CMA-ES', 'url-code': 0}\n",
      "{'worker_id': 4, 'time': 'Thu Nov 28 01:17:20 2019', 'RE': 'Hello(.*)', 'error': 0.9998982092091583, 'matched-string': '', 'deltatime': 0.1207, 'url': 'https://en.wikipedia.org/wiki/Inertia', 'url-code': 0}\n",
      "processing url:  https://123.com\n",
      "{'worker_id': 0, 'time': 'Thu Nov 28 01:17:20 2019', 'RE': 'This is Me(.*)', 'error': 0.9998255078448764, 'matched-string': '', 'deltatime': 0.123698, 'url': 'https://en.wikipedia.org/wiki/Inertia', 'url-code': 0}\n",
      "{'worker_id': 1, 'time': 'Thu Nov 28 01:17:20 2019', 'RE': 'derivatives nor even', 'error': 0.9997237328060022, 'matched-string': '', 'deltatime': 0.120708, 'url': 'https://en.wikipedia.org/wiki/Inertia', 'url-code': 0}\n",
      "{'worker_id': 2, 'time': 'Thu Nov 28 01:17:21 2019', 'RE': '', 'error': 1, 'matched-string': '', 'deltatime': 0, 'url': 'https://123.com', 'url-code': 404}\n"
     ]
    }
   ],
   "source": [
    "from solution import multi_process_urls\n",
    "\n",
    "\n",
    "print(\"------------testing with 1 worker, expecting to see the url processing in order--------\") \n",
    "multi_process_urls(\"url_file.txt\", \"regex_file.txt\", _max_num_workers=1)\n",
    "\n",
    "print(\"------------testing with 5 workers, expecting to see the url processing in random order--------\") \n",
    "multi_process_urls(\"url_file.txt\", \"regex_file.txt\", _max_num_workers=5)"
   ]
  },
  {
   "cell_type": "markdown",
   "metadata": {},
   "source": [
    "## Conclusions\n",
    "\n",
    "After testing the functions, we can see that multi-processing can help enhancing the process of urls. Specially in case of having big datasets of urls, multi processing can help in avoiding the freezing effect and constantly reporting whenever any of the workers get done with their process.\n",
    "\n",
    "Ctrl+C effect is tested on the console. The usage of try-except in addition to os.kill can handle the deadlock, printing errors and gives control in handling the signal by the programmer. "
   ]
  },
  {
   "cell_type": "code",
   "execution_count": null,
   "metadata": {},
   "outputs": [],
   "source": []
  }
 ],
 "metadata": {
  "kernelspec": {
   "display_name": "Python 3",
   "language": "python",
   "name": "python3"
  },
  "language_info": {
   "codemirror_mode": {
    "name": "ipython",
    "version": 3
   },
   "file_extension": ".py",
   "mimetype": "text/x-python",
   "name": "python",
   "nbconvert_exporter": "python",
   "pygments_lexer": "ipython3",
   "version": "3.6.4"
  }
 },
 "nbformat": 4,
 "nbformat_minor": 2
}
