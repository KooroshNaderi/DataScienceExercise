{
 "cells": [
  {
   "cell_type": "markdown",
   "metadata": {},
   "source": [
    "In this exercise, we want to find urls that matches given regular expression.\n",
    "\n",
    "D = the content containing lots of urls (maybe big data)\n",
    "RE = given set of regular expressions"
   ]
  },
  {
   "cell_type": "code",
   "execution_count": 140,
   "metadata": {},
   "outputs": [],
   "source": [
    "# import libraries\n",
    "import re\n",
    "from difflib import SequenceMatcher"
   ]
  },
  {
   "cell_type": "code",
   "execution_count": 141,
   "metadata": {},
   "outputs": [],
   "source": [
    "def MyProgressiveContinouseLength(X, Y):\n",
    "    total_similarity = 0\n",
    "    max_similarity = 0\n",
    "    pre_similarity_count = 0\n",
    "    for start_on in range(len(X)):\n",
    "        similarity_count = 0\n",
    "        idx_Y = 0\n",
    "        str_ret = \"\"\n",
    "        for i in range(start_on, len(X)):\n",
    "            for j in range(idx_Y, len(Y)):\n",
    "                if (X[i] == Y[j]):\n",
    "                    similarity_count = similarity_count + 1\n",
    "                    idx_Y = j + 1\n",
    "                    str_ret = str_ret + str(X[i])\n",
    "        #print(similarity_count)\n",
    "        if similarity_count > pre_similarity_count and pre_similarity_count > 0:\n",
    "            max_similarity = max(max_similarity, similarity_count)\n",
    "            total_similarity = total_similarity + max_similarity\n",
    "        pre_similarity_count = similarity_count\n",
    "    return total_similarity"
   ]
  },
  {
   "cell_type": "code",
   "execution_count": 142,
   "metadata": {},
   "outputs": [
    {
     "name": "stdout",
     "output_type": "stream",
     "text": [
      "Length of LCS is  4\n"
     ]
    }
   ],
   "source": [
    "# test\n",
    "X = \"AGGTAB\"\n",
    "Y = \"GXTXAYB\"\n",
    "print( \"Length of LCS is \", MyProgressiveContinouseLength(X , Y) )"
   ]
  },
  {
   "cell_type": "code",
   "execution_count": 146,
   "metadata": {},
   "outputs": [],
   "source": [
    "def RetError(str1, str2):\n",
    "    #a = MyProgressiveContinouseLength(str1, str2)\n",
    "    #return a / max(len(str1),len(str2))\n",
    "    s = SequenceMatcher(None, str1, str2)\n",
    "    return s.ratio()\n",
    "    "
   ]
  },
  {
   "cell_type": "code",
   "execution_count": 147,
   "metadata": {},
   "outputs": [],
   "source": [
    "def IsMatch(D, RE, startIdx, endIdx): \n",
    "    #print(RE)\n",
    "    p = re.compile(RE)\n",
    "    for i in range(startIdx, endIdx):\n",
    "        #print(D[i])\n",
    "        x = p.search(D[i])\n",
    "        if x:\n",
    "            print(x)\n",
    "        else:\n",
    "            print(RetError(D[i], RE))\n",
    "    return x "
   ]
  },
  {
   "cell_type": "code",
   "execution_count": 148,
   "metadata": {},
   "outputs": [
    {
     "name": "stdout",
     "output_type": "stream",
     "text": [
      "<_sre.SRE_Match object; span=(0, 19), match='https://MyWeb.com/1'>\n",
      "<_sre.SRE_Match object; span=(0, 19), match='https://MyWeb.com/2'>\n",
      "<_sre.SRE_Match object; span=(0, 19), match='https://MyWeb.com/3'>\n",
      "0.7441860465116279\n",
      "0.7441860465116279\n",
      "0.7441860465116279\n",
      "<_sre.SRE_Match object; span=(0, 19), match='https://MyWeb.com/1'>\n"
     ]
    }
   ],
   "source": [
    "RE = ['https://MyWeb.com/(.*)']\n",
    "\n",
    "D = ['https://MyWeb.com/1',\n",
    "     'https://MyWeb.com/2',\n",
    "     'https://MyWeb.com/3',\n",
    "     'https://YourWeb.com/1',\n",
    "     'https://YourWeb.com/2',\n",
    "     'https://YourWeb.com/3',\n",
    "    ]\n",
    "\n",
    "X_arr = IsMatch(D, RE[0], 0, len(D))\n",
    "\n",
    "p = re.compile(RE[0])\n",
    "m = p.search(D[0])\n",
    "print(m)"
   ]
  },
  {
   "cell_type": "code",
   "execution_count": null,
   "metadata": {},
   "outputs": [],
   "source": []
  }
 ],
 "metadata": {
  "kernelspec": {
   "display_name": "Python 3",
   "language": "python",
   "name": "python3"
  },
  "language_info": {
   "codemirror_mode": {
    "name": "ipython",
    "version": 3
   },
   "file_extension": ".py",
   "mimetype": "text/x-python",
   "name": "python",
   "nbconvert_exporter": "python",
   "pygments_lexer": "ipython3",
   "version": "3.6.4"
  }
 },
 "nbformat": 4,
 "nbformat_minor": 2
}
