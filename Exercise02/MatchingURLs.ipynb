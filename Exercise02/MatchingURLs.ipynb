{
 "cells": [
  {
   "cell_type": "markdown",
   "metadata": {},
   "source": [
    "In this exercise, we want to find urls that matches given regular expression.\n",
    "\n",
    "D = the content containing lots of urls (maybe big data)\n",
    "RE = given set of regular expressions"
   ]
  },
  {
   "cell_type": "code",
   "execution_count": 71,
   "metadata": {},
   "outputs": [],
   "source": [
    "# import libraries\n",
    "import re\n",
    "from difflib import SequenceMatcher"
   ]
  },
  {
   "cell_type": "code",
   "execution_count": 72,
   "metadata": {},
   "outputs": [],
   "source": [
    "def lcs(X, Y, m, n):\n",
    "    if m == 0 or n == 0: \n",
    "       return 0; \n",
    "    elif X[m-1] == Y[n-1]: \n",
    "       return 1 + lcs(X, Y, m-1, n-1); \n",
    "    else: \n",
    "       return max(lcs(X, Y, m, n-1), lcs(X, Y, m-1, n)); "
   ]
  },
  {
   "cell_type": "code",
   "execution_count": 77,
   "metadata": {},
   "outputs": [
    {
     "name": "stdout",
     "output_type": "stream",
     "text": [
      "Length of LCS is  4\n"
     ]
    }
   ],
   "source": [
    "X = \"AGGTAB\"\n",
    "Y = \"GXTXAYB\"\n",
    "print( \"Length of LCS is \", lcs(X , Y, len(X), len(Y)) )"
   ]
  },
  {
   "cell_type": "code",
   "execution_count": 81,
   "metadata": {},
   "outputs": [],
   "source": [
    "def RetError(str1, str2):\n",
    "    #a = lcs(str1, str2, len(str1), len(str2))\n",
    "    #return a / len(str1)\n",
    "    s = SequenceMatcher(None, str1, str2)\n",
    "    return s.ratio()\n",
    "    "
   ]
  },
  {
   "cell_type": "code",
   "execution_count": 82,
   "metadata": {},
   "outputs": [],
   "source": [
    "def IsMatch(D, RE, startIdx, endIdx): \n",
    "    #print(RE)\n",
    "    p = re.compile(RE)\n",
    "    for i in range(startIdx, endIdx):\n",
    "        #print(D[i])\n",
    "        x = p.search(D[i])\n",
    "        if x:\n",
    "            print(x)\n",
    "        else:\n",
    "            print(RetError(D[i], RE))\n",
    "    return x "
   ]
  },
  {
   "cell_type": "code",
   "execution_count": 83,
   "metadata": {},
   "outputs": [
    {
     "name": "stdout",
     "output_type": "stream",
     "text": [
      "<_sre.SRE_Match object; span=(0, 19), match='https://MyWeb.com/1'>\n",
      "<_sre.SRE_Match object; span=(0, 19), match='https://MyWeb.com/2'>\n",
      "<_sre.SRE_Match object; span=(0, 19), match='https://MyWeb.com/3'>\n",
      "0.7441860465116279\n",
      "0.7441860465116279\n",
      "0.7441860465116279\n",
      "<_sre.SRE_Match object; span=(0, 19), match='https://MyWeb.com/1'>\n"
     ]
    }
   ],
   "source": [
    "RE = ['https://MyWeb.com/(.*)']\n",
    "\n",
    "D = ['https://MyWeb.com/1',\n",
    "     'https://MyWeb.com/2',\n",
    "     'https://MyWeb.com/3',\n",
    "     'https://YourWeb.com/1',\n",
    "     'https://YourWeb.com/2',\n",
    "     'https://YourWeb.com/3',\n",
    "    ]\n",
    "\n",
    "X_arr = IsMatch(D, RE[0], 0, len(D))\n",
    "\n",
    "p = re.compile(RE[0])\n",
    "m = p.search(D[0])\n",
    "print(m)"
   ]
  },
  {
   "cell_type": "code",
   "execution_count": null,
   "metadata": {},
   "outputs": [],
   "source": []
  }
 ],
 "metadata": {
  "kernelspec": {
   "display_name": "Python 3",
   "language": "python",
   "name": "python3"
  },
  "language_info": {
   "codemirror_mode": {
    "name": "ipython",
    "version": 3
   },
   "file_extension": ".py",
   "mimetype": "text/x-python",
   "name": "python",
   "nbconvert_exporter": "python",
   "pygments_lexer": "ipython3",
   "version": "3.6.4"
  }
 },
 "nbformat": 4,
 "nbformat_minor": 2
}
