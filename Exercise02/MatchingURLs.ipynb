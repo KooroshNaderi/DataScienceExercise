{
 "cells": [
  {
   "cell_type": "markdown",
   "metadata": {},
   "source": [
    "In this exercise, we want to find urls that matches given regular expression.\n",
    "\n",
    "D = the content containing lots of urls (maybe big data)\n",
    "RE = given set of regular expressions"
   ]
  },
  {
   "cell_type": "code",
   "execution_count": 1,
   "metadata": {},
   "outputs": [],
   "source": [
    "# import libraries\n",
    "import re\n",
    "from difflib import SequenceMatcher\n",
    "from datetime import datetime\n",
    "import multiprocessing\n",
    "from multiprocessing import Process, Queue"
   ]
  },
  {
   "cell_type": "markdown",
   "metadata": {},
   "source": [
    "I developed a greedy version of finding similarity between two strings given the time, but a better version is the SequenceMatcher in difflib."
   ]
  },
  {
   "cell_type": "code",
   "execution_count": 2,
   "metadata": {},
   "outputs": [],
   "source": [
    "def MyGreedySimilarityStrings(X, Y):\n",
    "    total_similarity = 0\n",
    "    \n",
    "    for start_on in range(len(X)):\n",
    "        similarity_count = 0\n",
    "        \n",
    "        str_ret = \"\"\n",
    "        \n",
    "        str_ret += str(start_on) + \",\"\n",
    "        # find first similarity on the other str\n",
    "        found_str_chunk = False\n",
    "        index_on_str1 = start_on\n",
    "        index_on_str2 = 0\n",
    "        last_index_str2_equal = 0\n",
    "        while not found_str_chunk:\n",
    "            #print(X[index_on_str1], Y[index_on_str2])\n",
    "            if index_on_str1 < len(X) and index_on_str2 < len(Y) and X[index_on_str1] == Y[index_on_str2]:\n",
    "                index_on_str1 += 1\n",
    "                similarity_count += 1\n",
    "                \n",
    "                last_index_str2_equal = index_on_str2\n",
    "                str_ret = str_ret + str(Y[index_on_str2])\n",
    "                \n",
    "            index_on_str2 += 1\n",
    "            \n",
    "            if (index_on_str2 >= len(Y)):\n",
    "                index_on_str2 = last_index_str2_equal + 1\n",
    "                index_on_str1 += 1\n",
    "            if (index_on_str1 >= len(X)):\n",
    "                found_str_chunk = True\n",
    "\n",
    "        str_ret += \",\" + str(similarity_count)\n",
    "        #print(str_ret)\n",
    "        \n",
    "        total_similarity = max(total_similarity, similarity_count)\n",
    "    return total_similarity"
   ]
  },
  {
   "cell_type": "code",
   "execution_count": 3,
   "metadata": {},
   "outputs": [
    {
     "name": "stdout",
     "output_type": "stream",
     "text": [
      "Length of LCS is  4\n"
     ]
    }
   ],
   "source": [
    "# test for MyGreedySimilarityStrings\n",
    "X = \"abxcd\"\n",
    "Y = \"abcd\"\n",
    "print( \"Length of LCS is \", MyGreedySimilarityStrings(X , Y) )"
   ]
  },
  {
   "cell_type": "code",
   "execution_count": 4,
   "metadata": {},
   "outputs": [],
   "source": [
    "def RetError(str1, str2):\n",
    "    useSequenceMatcher = True\n",
    "    if useSequenceMatcher:\n",
    "        s = SequenceMatcher(None, str1, str2)\n",
    "        return 1 - s.ratio()\n",
    "    \n",
    "    a = MyGreedySimilarityStrings(str1, str2)\n",
    "    return 1 - a / max(len(str1),len(str2))"
   ]
  },
  {
   "cell_type": "code",
   "execution_count": 5,
   "metadata": {},
   "outputs": [],
   "source": [
    "# startIdx and endIdx is the index on the big data to be process\n",
    "# RE is the regular expression at hand for processing\n",
    "def IsMatch(worker_id, output_queue, Part_D, RE, startIdx, endIdx):\n",
    "    out = {} # a dictionary for output\n",
    "    out['worker_id'] = worker_id\n",
    "    out['time'] = datetime.now()\n",
    "    p = re.compile(RE)\n",
    "    for i in range(startIdx, endIdx):\n",
    "        x = p.search(Part_D[i])\n",
    "        if x:\n",
    "            out['error'+str(i)] = 0 \n",
    "        else:\n",
    "            out['error'+str(i)] = RetError(Part_D[i], RE)\n",
    "    \n",
    "    out['deltatime'] = datetime.now() - out['time']\n",
    "    output_queue.put(out)"
   ]
  },
  {
   "cell_type": "code",
   "execution_count": 6,
   "metadata": {},
   "outputs": [
    {
     "name": "stdout",
     "output_type": "stream",
     "text": [
      "{'worker_id': 0, 'time': datetime.datetime(2019, 11, 17, 13, 35, 21, 117891), 'error0': 0, 'error1': 0, 'error2': 0, 'error3': 0.2558139534883721, 'error4': 0.2558139534883721, 'error5': 0.2558139534883721, 'deltatime': datetime.timedelta(0)}\n"
     ]
    }
   ],
   "source": [
    "# test for IsMatch\n",
    "RE = ['https://MyWeb.com/(.*)']\n",
    "\n",
    "D = ['https://MyWeb.com/1',\n",
    "     'https://MyWeb.com/2',\n",
    "     'https://MyWeb.com/3',\n",
    "     'https://YourWeb.com/1',\n",
    "     'https://YourWeb.com/2',\n",
    "     'https://YourWeb.com/3',\n",
    "    ]\n",
    "\n",
    "output = Queue()\n",
    "\n",
    "for i in range(len(RE)):\n",
    "    IsMatch(i, output, D, RE[i], 0, len(D))\n",
    "    \n",
    "print(output.get())"
   ]
  },
  {
   "cell_type": "code",
   "execution_count": 7,
   "metadata": {},
   "outputs": [
    {
     "name": "stdout",
     "output_type": "stream",
     "text": [
      "hello somebody\n"
     ]
    }
   ],
   "source": [
    "# test multi-processing\n",
    "\n",
    "from multiprocessing import Process, Queue\n",
    "\n",
    "#Having the function definition here results in\n",
    "#AttributeError: Can't get attribute 'f' on <module '__main__' (built-in)>\n",
    "\n",
    "#The solution seems to be importing the function from a separate file.\n",
    "# utils contains the above functions\n",
    "import utils\n",
    "\n",
    "if __name__ == '__main__':\n",
    "   # Define an output queue\n",
    "   output=Queue()\n",
    "\n",
    "   # Setup a list of processes that we want to run\n",
    "   p = Process(target=utils.test, args=('somebody', output))\n",
    "\n",
    "   # Run process\n",
    "   p.start()\n",
    "\n",
    "   # Exit the completed process\n",
    "   p.join()\n",
    "\n",
    "   # Get process results from the output queue\n",
    "   result = output.get(p)\n",
    "\n",
    "   print(result)"
   ]
  },
  {
   "cell_type": "code",
   "execution_count": 8,
   "metadata": {},
   "outputs": [
    {
     "name": "stdout",
     "output_type": "stream",
     "text": [
      "[{'worker_id': 0, 'time': datetime.datetime(2019, 11, 17, 13, 35, 21, 352264), 'error0': 0, 'error1': 0, 'error2': 0, 'error3': 0.2558139534883721, 'error4': 0.2558139534883721, 'error5': 0.2558139534883721, 'deltatime': datetime.timedelta(0, 0, 998)}, {'worker_id': 1, 'time': datetime.datetime(2019, 11, 17, 13, 35, 21, 353262), 'error0': 0.2558139534883721, 'error1': 0.2558139534883721, 'error2': 0.2558139534883721, 'error3': 0, 'error4': 0, 'error5': 0, 'deltatime': datetime.timedelta(0)}]\n"
     ]
    }
   ],
   "source": [
    "import utils\n",
    "\n",
    "if __name__ == '__main__':\n",
    "    RE = ['https://MyWeb.com/(.*)',\n",
    "          'https://YourWeb.com/(.*)',]\n",
    "\n",
    "    D = ['https://MyWeb.com/1',\n",
    "         'https://MyWeb.com/2',\n",
    "         'https://MyWeb.com/3',\n",
    "         'https://YourWeb.com/1',\n",
    "         'https://YourWeb.com/2',\n",
    "         'https://YourWeb.com/3',\n",
    "        ]\n",
    "    \n",
    "    jobs = []\n",
    "\n",
    "    output = Queue()\n",
    "\n",
    "    for i in range(len(RE)):\n",
    "        p = Process(target=utils.IsMatch, args=(i, output, D, RE[i], 0, len(D)))\n",
    "        jobs.append(p)\n",
    "        p.start()\n",
    "\n",
    "    results = []\n",
    "    for p in jobs:\n",
    "        p.join()\n",
    "        results.append(output.get(p))\n",
    "\n",
    "    print(results)"
   ]
  },
  {
   "cell_type": "code",
   "execution_count": null,
   "metadata": {},
   "outputs": [],
   "source": []
  }
 ],
 "metadata": {
  "kernelspec": {
   "display_name": "Python 3",
   "language": "python",
   "name": "python3"
  },
  "language_info": {
   "codemirror_mode": {
    "name": "ipython",
    "version": 3
   },
   "file_extension": ".py",
   "mimetype": "text/x-python",
   "name": "python",
   "nbconvert_exporter": "python",
   "pygments_lexer": "ipython3",
   "version": "3.6.7"
  }
 },
 "nbformat": 4,
 "nbformat_minor": 2
}
